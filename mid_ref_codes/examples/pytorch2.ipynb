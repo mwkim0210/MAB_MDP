{
 "cells": [
  {
   "cell_type": "code",
   "execution_count": 2,
   "metadata": {
    "id": "HY2Bx0rG9p9e"
   },
   "outputs": [],
   "source": [
    "def RSP_game(my, other):\n",
    "    if my==other:\n",
    "      result = 'draw'\n",
    "    elif ((my=='rock' and other=='scissors') or (my=='scissors' and other =='paper') or (my=='paper' and other=='rock') ):\n",
    "      result = 'win'\n",
    "    else:\n",
    "      result = 'lose'\n",
    "    return result"
   ]
  },
  {
   "cell_type": "code",
   "execution_count": 3,
   "metadata": {
    "colab": {
     "base_uri": "https://localhost:8080/"
    },
    "id": "fTtICXKqAfuk",
    "outputId": "9a97da5f-b211-4629-f5bf-dcf0b6a6e034"
   },
   "outputs": [
    {
     "name": "stdout",
     "output_type": "stream",
     "text": [
      "win\n"
     ]
    }
   ],
   "source": [
    "game1 = RSP_game(my='rock',other='scissors')\n",
    "print(game1)"
   ]
  },
  {
   "cell_type": "code",
   "execution_count": 4,
   "metadata": {
    "id": "hkHiSqtOA5dg"
   },
   "outputs": [],
   "source": [
    "import numpy as np\n",
    "\n",
    "class ENV:\n",
    "  def __init__(self, my):\n",
    "    other = np.random.choice(['rock','scissors','paper'], replace = True, size = 1, p=[0.1, 0.8, 0.1])\n",
    "    self.result = RSP_game(my, other)"
   ]
  },
  {
   "cell_type": "code",
   "execution_count": 5,
   "metadata": {
    "colab": {
     "base_uri": "https://localhost:8080/"
    },
    "id": "0hGMK6liBaG8",
    "outputId": "343e3d8d-2b24-436c-befd-192bffea4ae5"
   },
   "outputs": [
    {
     "name": "stdout",
     "output_type": "stream",
     "text": [
      "lose\n"
     ]
    }
   ],
   "source": [
    "game1=ENV(my='paper')\n",
    "print(game1.result)"
   ]
  },
  {
   "cell_type": "code",
   "execution_count": 10,
   "metadata": {
    "id": "x7Y1dzxUDu26"
   },
   "outputs": [],
   "source": [
    "import numpy as np\n",
    "import pandas as pd\n",
    "num_eps = 10\n",
    "eps_len = 100\n",
    "TOT_REWARD_RANDOM = np.zeros(num_eps)\n",
    "for i in range(num_eps):\n",
    "  reward = np.zeros(eps_len)\n",
    "  my = []\n",
    "  my.clear()\n",
    "  for t in range(eps_len):\n",
    "    my.append(np.random.choice(['rock','scissors','paper'], replace = True, size=1).item() )\n",
    "    game = ENV(my=my[t])\n",
    "    if game.result == 'win':\n",
    "      reward[t] = 5\n",
    "    elif game.result=='draw':\n",
    "      reward[t]=0\n",
    "    else:\n",
    "      reward[t]=-5\n",
    "    TOT_REWARD_RANDOM[i] = reward.mean()\n",
    "  data = list(zip(my,reward))\n",
    "  df = pd.DataFrame(data=data, columns=['my','reward'])\n"
   ]
  },
  {
   "cell_type": "code",
   "execution_count": 11,
   "metadata": {
    "colab": {
     "base_uri": "https://localhost:8080/",
     "height": 205
    },
    "id": "PVrzDaDXSXmp",
    "outputId": "e3cc8820-f8ce-44ef-aef5-f0982afc983d"
   },
   "outputs": [
    {
     "data": {
      "text/html": [
       "<div>\n",
       "<style scoped>\n",
       "    .dataframe tbody tr th:only-of-type {\n",
       "        vertical-align: middle;\n",
       "    }\n",
       "\n",
       "    .dataframe tbody tr th {\n",
       "        vertical-align: top;\n",
       "    }\n",
       "\n",
       "    .dataframe thead th {\n",
       "        text-align: right;\n",
       "    }\n",
       "</style>\n",
       "<table border=\"1\" class=\"dataframe\">\n",
       "  <thead>\n",
       "    <tr style=\"text-align: right;\">\n",
       "      <th></th>\n",
       "      <th>my</th>\n",
       "      <th>reward</th>\n",
       "    </tr>\n",
       "  </thead>\n",
       "  <tbody>\n",
       "    <tr>\n",
       "      <th>0</th>\n",
       "      <td>scissors</td>\n",
       "      <td>0.0</td>\n",
       "    </tr>\n",
       "    <tr>\n",
       "      <th>1</th>\n",
       "      <td>rock</td>\n",
       "      <td>5.0</td>\n",
       "    </tr>\n",
       "    <tr>\n",
       "      <th>2</th>\n",
       "      <td>scissors</td>\n",
       "      <td>0.0</td>\n",
       "    </tr>\n",
       "    <tr>\n",
       "      <th>3</th>\n",
       "      <td>rock</td>\n",
       "      <td>5.0</td>\n",
       "    </tr>\n",
       "    <tr>\n",
       "      <th>4</th>\n",
       "      <td>paper</td>\n",
       "      <td>-5.0</td>\n",
       "    </tr>\n",
       "  </tbody>\n",
       "</table>\n",
       "</div>"
      ],
      "text/plain": [
       "         my  reward\n",
       "0  scissors     0.0\n",
       "1      rock     5.0\n",
       "2  scissors     0.0\n",
       "3      rock     5.0\n",
       "4     paper    -5.0"
      ]
     },
     "execution_count": 11,
     "metadata": {},
     "output_type": "execute_result"
    }
   ],
   "source": [
    "df.head()"
   ]
  },
  {
   "cell_type": "code",
   "execution_count": 12,
   "metadata": {
    "colab": {
     "base_uri": "https://localhost:8080/"
    },
    "id": "lM39GRLvVFMa",
    "outputId": "c5fcec36-48b9-4637-fb20-a68997975a35"
   },
   "outputs": [
    {
     "data": {
      "text/plain": [
       "my        reward\n",
       "scissors   0.0      35\n",
       "rock       5.0      26\n",
       "paper     -5.0      25\n",
       "           5.0       4\n",
       "rock       0.0       4\n",
       "          -5.0       3\n",
       "scissors   5.0       2\n",
       "paper      0.0       1\n",
       "dtype: int64"
      ]
     },
     "execution_count": 12,
     "metadata": {},
     "output_type": "execute_result"
    }
   ],
   "source": [
    "df.value_counts()"
   ]
  },
  {
   "cell_type": "code",
   "execution_count": 13,
   "metadata": {
    "colab": {
     "base_uri": "https://localhost:8080/",
     "height": 173
    },
    "id": "LgSDOXtjJvK1",
    "outputId": "798cf454-504e-455b-b6b1-ab992a10473e"
   },
   "outputs": [
    {
     "data": {
      "text/html": [
       "<div>\n",
       "<style scoped>\n",
       "    .dataframe tbody tr th:only-of-type {\n",
       "        vertical-align: middle;\n",
       "    }\n",
       "\n",
       "    .dataframe tbody tr th {\n",
       "        vertical-align: top;\n",
       "    }\n",
       "\n",
       "    .dataframe thead th {\n",
       "        text-align: right;\n",
       "    }\n",
       "</style>\n",
       "<table border=\"1\" class=\"dataframe\">\n",
       "  <thead>\n",
       "    <tr style=\"text-align: right;\">\n",
       "      <th></th>\n",
       "      <th>reward</th>\n",
       "    </tr>\n",
       "    <tr>\n",
       "      <th>my</th>\n",
       "      <th></th>\n",
       "    </tr>\n",
       "  </thead>\n",
       "  <tbody>\n",
       "    <tr>\n",
       "      <th>paper</th>\n",
       "      <td>-3.500000</td>\n",
       "    </tr>\n",
       "    <tr>\n",
       "      <th>rock</th>\n",
       "      <td>3.484848</td>\n",
       "    </tr>\n",
       "    <tr>\n",
       "      <th>scissors</th>\n",
       "      <td>0.270270</td>\n",
       "    </tr>\n",
       "  </tbody>\n",
       "</table>\n",
       "</div>"
      ],
      "text/plain": [
       "            reward\n",
       "my                \n",
       "paper    -3.500000\n",
       "rock      3.484848\n",
       "scissors  0.270270"
      ]
     },
     "execution_count": 13,
     "metadata": {},
     "output_type": "execute_result"
    }
   ],
   "source": [
    "groups = df.groupby('my')\n",
    "groups.size()\n",
    "group_mean = groups.mean()\n",
    "group_mean"
   ]
  },
  {
   "cell_type": "code",
   "execution_count": 14,
   "metadata": {
    "id": "IiOUqi0qXudF"
   },
   "outputs": [],
   "source": [
    "import numpy as np\n",
    "import pandas as pd\n",
    "num_eps = 10\n",
    "eps_len = 100\n",
    "TOT_REWARD_OPT = np.zeros(num_eps)\n",
    "for i in range(num_eps):\n",
    "  reward = np.zeros(eps_len)\n",
    "  my = []\n",
    "  my.clear()\n",
    "  for t in range(eps_len):\n",
    "    my.append('rock')\n",
    "    game = ENV(my=my[t])\n",
    "    if game.result == 'win':\n",
    "      reward[t] = 5\n",
    "    elif game.result=='draw':\n",
    "      reward[t]=0\n",
    "    else:\n",
    "      reward[t]=-5\n",
    "    TOT_REWARD_OPT[i] = reward.mean()\n",
    "  data = list(zip(my,reward))\n",
    "  df = pd.DataFrame(data=data, columns=['my','reward'])"
   ]
  },
  {
   "cell_type": "code",
   "execution_count": 15,
   "metadata": {
    "colab": {
     "base_uri": "https://localhost:8080/",
     "height": 282
    },
    "id": "rbbeXM-4Xkdt",
    "outputId": "eee6a174-60ec-49e1-b4f9-da657dc8d2dc"
   },
   "outputs": [
    {
     "data": {
      "text/plain": [
       "<matplotlib.legend.Legend at 0x7f7aad2f1be0>"
      ]
     },
     "execution_count": 15,
     "metadata": {},
     "output_type": "execute_result"
    },
    {
     "data": {
      "image/png": "[encoded data removed]",
      "text/plain": [
       "<Figure size 432x288 with 1 Axes>"
      ]
     },
     "metadata": {
      "needs_background": "light"
     },
     "output_type": "display_data"
    }
   ],
   "source": [
    "import matplotlib.pyplot as plt\n",
    "plt.plot(TOT_REWARD_RANDOM)\n",
    "plt.plot(TOT_REWARD_OPT)\n",
    "plt.legend(['random','optimal'])"
   ]
  }
 ],
 "metadata": {
  "colab": {
   "name": "pytorch2.ipynb",
   "provenance": []
  },
  "kernelspec": {
   "display_name": "Python 3 (ipykernel)",
   "language": "python",
   "name": "python3"
  },
  "language_info": {
   "codemirror_mode": {
    "name": "ipython",
    "version": 3
   },
   "file_extension": ".py",
   "mimetype": "text/x-python",
   "name": "python",
   "nbconvert_exporter": "python",
   "pygments_lexer": "ipython3",
   "version": "3.9.7"
  }
 },
 "nbformat": 4,
 "nbformat_minor": 4
}
